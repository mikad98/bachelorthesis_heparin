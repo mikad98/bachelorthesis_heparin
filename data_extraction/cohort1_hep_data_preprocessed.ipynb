{
 "cells": [
  {
   "cell_type": "markdown",
   "metadata": {},
   "source": [
    "### Import Libraries "
   ]
  },
  {
   "cell_type": "code",
   "execution_count": 9,
   "metadata": {},
   "outputs": [],
   "source": [
    "import pandas as pd\n",
    "import numpy as np\n",
    "from pandas.io import gbq\n",
    "\n",
    "pd.options.mode.chained_assignment = None  # default='warn'"
   ]
  },
  {
   "cell_type": "code",
   "execution_count": 13,
   "metadata": {},
   "outputs": [
    {
     "name": "stderr",
     "output_type": "stream",
     "text": [
      "Downloading: 100%|███████████████████████████████████████████████████████████| 15118/15118 [00:04<00:00, 3083.67rows/s]\n"
     ]
    }
   ],
   "source": [
    "# Load the Data:\n",
    "query_hep = \"\"\"\n",
    "            SELECT *\n",
    "            FROM `bachelorarbeit-heparin.mimic_data.cohort1_hep_data`\n",
    "            WHERE rel_starttime < 1440\n",
    "            \"\"\"\n",
    "df_hep = gbq.read_gbq(query_hep, project_id = \"bachelorarbeit-heparin\")"
   ]
  },
  {
   "cell_type": "markdown",
   "metadata": {},
   "source": [
    "### The aim of this code is to take the heparin related data from cohort 1 and to fill up missing intervals, where no heparin was administered with a rate of zero. This facilitates subsequent work with the data"
   ]
  },
  {
   "cell_type": "code",
   "execution_count": 18,
   "metadata": {},
   "outputs": [],
   "source": [
    "new_df = pd.DataFrame(columns=['subject_id', 'hadm_id', 'stay_id', 'starttime', 'endtime', 'init_hep_starttime', 'rel_starttime', 'rel_endtime', 'treatment_length', 'kum_amount_start', 'kum_amount_end', 'kum_amount_start_by_weight', 'kum_amount_end_by_weight', 'amount', 'amountuom', 'rate', 'rateuom', 'patientweight', 'rate_by_weight', 'ordercategorydescription'])\n",
    "new_df = new_df[0:0] # makes sure, that df is empty, before the loop starts\n",
    "\n",
    "\n",
    "for key, item in df_hep.groupby(['stay_id']):\n",
    "    item.reset_index(inplace=True, drop=True)\n",
    "    \n",
    "    # Data Imputation:\n",
    "    # 1. for-loop: if there are missing hep_intervals, insert the missing interval with rate=0\n",
    "    for i in range(len(item)): \n",
    "        \n",
    "        if (item.iloc[i,6] != 0) and (item.iloc[i,6] != item.iloc[i-1,7]):\n",
    "            item.loc[i-0.5] = item.iloc[i,0], item.iloc[i,1], item.iloc[i,2], item.iloc[i-1,4], item.iloc[i,3], item.iloc[i,5], item.iloc[i-1,7], item.iloc[i,6], item.iloc[i,6]-item.iloc[i-1,7], item.iloc[i-1,10], item.iloc[i-1,10], item.iloc[i-1,12], item.iloc[i-1,12], 0, item.iloc[i,14], 0, item.iloc[i,16], item.iloc[i,17], 0, item.iloc[i,19]\n",
    "                                \n",
    "    item.sort_index(inplace=True)\n",
    "    item.reset_index(inplace=True, drop=True)\n",
    "    \n",
    "    # 2. if-condition: if hep_treatment ends before t=24, insert a row with rate=0 for the time between the end\n",
    "    #                  of treatment and t=24\n",
    "    if item.iloc[len(item)-1,7] < 1440:\n",
    "        item.loc[len(item)] = item.iloc[len(item)-1,0], item.iloc[len(item)-1,1], item.iloc[len(item)-1,2], item.iloc[len(item)-1,4], 'tbd', item.iloc[len(item)-1,5], item.iloc[len(item)-1,7], 1440, 1440-item.iloc[len(item)-1,7], item.iloc[len(item)-1,10], item.iloc[len(item)-1,10], item.iloc[len(item)-1,12], item.iloc[len(item)-1,12], 0, item.iloc[len(item)-1,14], 0, item.iloc[len(item)-1,16], item.iloc[len(item)-1,17], 0, item.iloc[len(item)-1,19]\n",
    "    \n",
    "    item.sort_index(inplace=True)\n",
    "    item.reset_index(inplace=True, drop=True)\n",
    "    \n",
    "    for i in range(len(item)):\n",
    "        \n",
    "        new_df = new_df.append(item.iloc[i], ignore_index=True)\n",
    "        \n",
    "new_df.sort_values(by=['stay_id', 'rel_starttime'])\n",
    "new_df.set_index('stay_id', inplace=True)   "
   ]
  },
  {
   "cell_type": "code",
   "execution_count": 19,
   "metadata": {},
   "outputs": [],
   "source": [
    "# Load to .csv File\n",
    "new_df.to_csv('cohort1_hep_data_preprocessed.csv')"
   ]
  }
 ],
 "metadata": {
  "kernelspec": {
   "display_name": "Python 3",
   "language": "python",
   "name": "python3"
  },
  "language_info": {
   "codemirror_mode": {
    "name": "ipython",
    "version": 3
   },
   "file_extension": ".py",
   "mimetype": "text/x-python",
   "name": "python",
   "nbconvert_exporter": "python",
   "pygments_lexer": "ipython3",
   "version": "3.7.6"
  }
 },
 "nbformat": 4,
 "nbformat_minor": 4
}
